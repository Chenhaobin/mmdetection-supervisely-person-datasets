{
 "cells": [
  {
   "cell_type": "code",
   "execution_count": 1,
   "metadata": {},
   "outputs": [],
   "source": [
    "import supervisely_lib as sly\n",
    "import os\n",
    "import subprocess"
   ]
  },
  {
   "cell_type": "code",
   "execution_count": 2,
   "metadata": {},
   "outputs": [],
   "source": [
    "address = os.environ['SERVER_ADDRESS']\n",
    "token = os.environ['API_TOKEN']"
   ]
  },
  {
   "cell_type": "code",
   "execution_count": 3,
   "metadata": {},
   "outputs": [
    {
     "name": "stdout",
     "output_type": "stream",
     "text": [
      "Server address:  http://192.168.1.69:5555\n",
      "Your API token:  OfaV5z24gEQ7ikv2DiVdYu1CXZhMavU7POtJw2iDtQtvGUux31DUyWTXW6mZ0wd3IRuXTNtMFS9pCggewQWRcqSTUi4EJXzly8kH7MJL1hm3uZeM2MCn5HaoEYwXejKT\n"
     ]
    }
   ],
   "source": [
    "print(\"Server address: \", address)\n",
    "print(\"Your API token: \", token)"
   ]
  },
  {
   "cell_type": "code",
   "execution_count": 4,
   "metadata": {},
   "outputs": [],
   "source": [
    "api = sly.Api(address, token)"
   ]
  },
  {
   "cell_type": "code",
   "execution_count": 5,
   "metadata": {},
   "outputs": [
    {
     "name": "stdout",
     "output_type": "stream",
     "text": [
      "Current context: Team 'max', Workspace 'my_super_workspace_002'\n"
     ]
    }
   ],
   "source": [
    "# get some context - team and workspace\n",
    "team = api.team.get_list()[0]\n",
    "workspace = api.workspace.get_list(team.id)[0]\n",
    "print(\"Current context: Team {!r}, Workspace {!r}\".format(team.name, workspace.name))"
   ]
  },
  {
   "cell_type": "code",
   "execution_count": 6,
   "metadata": {},
   "outputs": [
    {
     "name": "stdout",
     "output_type": "stream",
     "text": [
      "Project has been sucessfully cloned from explore: \n",
      "ProjectInfo(id=781, name='lemons_annotated_018', description='', size='861069', readme='', workspace_id=9, created_at='2019-03-13T17:26:49.699Z', updated_at='2019-03-13T17:26:49.699Z')\n"
     ]
    }
   ],
   "source": [
    "# clone project from explore\n",
    "project_name = 'lemons_annotated'\n",
    "if api.project.exists(workspace.id, project_name):\n",
    "    project_name = api.project.get_free_name(workspace.id, project_name)\n",
    "task_id = api.project.clone_from_explore('Supervisely/Demo/lemons_annotated', workspace.id, project_name)\n",
    "api.task.wait(task_id, api.task.Status.FINISHED)\n",
    "project = api.project.get_info_by_name(workspace.id, project_name)\n",
    "print(\"Project has been sucessfully cloned from explore: \")\n",
    "print(project)"
   ]
  },
  {
   "cell_type": "code",
   "execution_count": 7,
   "metadata": {},
   "outputs": [],
   "source": [
    "project_dir = '/workdir/downloaded_project'\n",
    "sly.fs.remove_dir(project_dir)\n",
    "project_fs = sly.Project(project_dir, sly.OpenMode.CREATE)"
   ]
  },
  {
   "cell_type": "code",
   "execution_count": 8,
   "metadata": {},
   "outputs": [],
   "source": [
    "meta_json = api.project.get_meta(project.id)\n",
    "meta = sly.ProjectMeta.from_json(meta_json)\n",
    "project_fs.set_meta(meta)"
   ]
  },
  {
   "cell_type": "code",
   "execution_count": 9,
   "metadata": {},
   "outputs": [],
   "source": [
    "for dataset in api.dataset.get_list(project.id):\n",
    "    dataset_fs = project_fs.create_dataset(dataset.name)\n",
    "    for image in api.image.get_list(dataset.id):\n",
    "        ann_info = api.annotation.download(image.id)\n",
    "        ann = sly.Annotation.from_json(ann_info.annotation, meta)\n",
    "        img = api.image.download_np(image.id)\n",
    "        dataset_fs.add_item_np(image.name + image.ext, img, ann)"
   ]
  },
  {
   "cell_type": "code",
   "execution_count": 11,
   "metadata": {},
   "outputs": [
    {
     "name": "stdout",
     "output_type": "stream",
     "text": [
      "/workdir/downloaded_project\n",
      "├── ds1\n",
      "│   ├── ann\n",
      "│   │   ├── IMG_0748.jpeg.json\n",
      "│   │   ├── IMG_1836.jpeg.json\n",
      "│   │   ├── IMG_2084.jpeg.json\n",
      "│   │   ├── IMG_3861.jpeg.json\n",
      "│   │   ├── IMG_4451.jpeg.json\n",
      "│   │   └── IMG_8144.jpeg.json\n",
      "│   └── img\n",
      "│       ├── IMG_0748.jpeg\n",
      "│       ├── IMG_1836.jpeg\n",
      "│       ├── IMG_2084.jpeg\n",
      "│       ├── IMG_3861.jpeg\n",
      "│       ├── IMG_4451.jpeg\n",
      "│       └── IMG_8144.jpeg\n",
      "└── meta.json\n",
      "\n",
      "3 directories, 13 files\n",
      "\n"
     ]
    }
   ],
   "source": [
    "print(subprocess.Popen(\"tree {}\".format(project_dir), shell=True, stdout=subprocess.PIPE).stdout.read().decode('utf-8'))"
   ]
  },
  {
   "cell_type": "code",
   "execution_count": null,
   "metadata": {},
   "outputs": [],
   "source": []
  }
 ],
 "metadata": {
  "kernelspec": {
   "display_name": "Python 3",
   "language": "python",
   "name": "python3"
  },
  "language_info": {
   "codemirror_mode": {
    "name": "ipython",
    "version": 3
   },
   "file_extension": ".py",
   "mimetype": "text/x-python",
   "name": "python",
   "nbconvert_exporter": "python",
   "pygments_lexer": "ipython3",
   "version": "3.6.5"
  }
 },
 "nbformat": 4,
 "nbformat_minor": 2
}
